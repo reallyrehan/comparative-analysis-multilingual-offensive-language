{
 "cells": [
  {
   "cell_type": "code",
   "execution_count": 9,
   "id": "fc439b9d",
   "metadata": {},
   "outputs": [],
   "source": [
    "from joblib import dump, load\n",
    "import os\n",
    "import pickle\n",
    "import argparse\n",
    "# For text preprocessing\n",
    "import re\n",
    "import numpy as np\n",
    "from nltk.tokenize import TweetTokenizer\n",
    "from wordsegment import segment, load\n",
    "import sys\n",
    "from sklearn.model_selection import train_test_split, KFold\n",
    "from datasets import load_dataset\n",
    "import pandas as pd\n",
    "from tqdm.auto import tqdm\n",
    "import pickle\n",
    "import os\n",
    "\n",
    "import os\n",
    "import sys\n",
    "import numpy as np\n",
    "import argparse\n",
    "import pickle\n",
    "import re\n",
    "\n",
    "from sklearn.naive_bayes import MultinomialNB\n",
    "from sklearn.linear_model import LogisticRegression, SGDClassifier\n",
    "from sklearn.feature_extraction.text import TfidfVectorizer\n",
    "from sklearn.svm import SVC\n",
    "from sklearn.ensemble import GradientBoostingClassifier, RandomForestClassifier\n",
    "from sklearn.pipeline import Pipeline\n",
    "\n",
    "from joblib import dump, load\n",
    "\n",
    "import warnings\n",
    "from sklearn.metrics import classification_report\n",
    "\n",
    "import pandas as pd\n",
    "import functools\n",
    "\n",
    "sys.path.insert(1, os.path.join(sys.path[0], '..'))\n",
    "# import helper\n",
    "import time\n",
    "\n",
    "import argparse\n",
    "import re\n",
    "\n",
    "def train(classifier,n_gram_tuple,feature_level,max_feature_length,_data,labels):\n",
    "    if classifier == 'NB':\n",
    "        text_clf = Pipeline([('vect', TfidfVectorizer(ngram_range=(n_gram_tuple[0],n_gram_tuple[1]), analyzer=feature_level, max_features=max_feature_length)),\n",
    "                        ('clf', MultinomialNB())])\n",
    "\n",
    "    elif classifier == 'LR':\n",
    "        text_clf = Pipeline([('vect', TfidfVectorizer(ngram_range=(n_gram_tuple[0],n_gram_tuple[1]), analyzer=feature_level, max_features=max_feature_length)),\n",
    "                        ('clf', LogisticRegression(multi_class=\"multinomial\", solver=\"lbfgs\"))])\n",
    "\n",
    "    elif classifier == 'SVM':\n",
    "        text_clf = Pipeline([('vect', TfidfVectorizer(ngram_range=(n_gram_tuple[0],n_gram_tuple[1]), analyzer=feature_level, max_features=max_feature_length)),\n",
    "                        ('clf', SGDClassifier(loss='log', penalty='l2'))])\n",
    "\n",
    "    elif classifier == 'RF':\n",
    "        text_clf = Pipeline([('vect', TfidfVectorizer(ngram_range=(n_gram_tuple[0],n_gram_tuple[1]), analyzer=feature_level, max_features=max_feature_length)),\n",
    "                        ('clf', RandomForestClassifier())]) \n",
    "\n",
    "    elif classifier == 'GBT':\n",
    "        text_clf = Pipeline([('vect', TfidfVectorizer(ngram_range=(n_gram_tuple[0],n_gram_tuple[1]), analyzer=feature_level, max_features=max_feature_length)),\n",
    "                        ('clf', GradientBoostingClassifier(learning_rate=1, max_depth=1))])\n",
    "        \n",
    "    \n",
    "    train_label_data = [i.tolist().index(1) for i in _data['label_train']]\n",
    "    text_clf.fit(_data[\"text_train\"], train_label_data)\n",
    "    \n",
    "    preds = text_clf.predict(_data[\"text_test\"])\n",
    "    \n",
    "    test_label_data = [i.tolist().index(1) for i in _data['label_test']]\n",
    "\n",
    "    print(classifier)\n",
    "#     print(labels)\n",
    "    print(classification_report(test_label_data, preds,target_names=labels))\n",
    "    print(\"======================\")\n",
    "    \n",
    "    return text_clf,test_label_data,preds\n"
   ]
  },
  {
   "cell_type": "code",
   "execution_count": null,
   "id": "197336c3",
   "metadata": {},
   "outputs": [],
   "source": []
  },
  {
   "cell_type": "code",
   "execution_count": 10,
   "id": "fca5e69d",
   "metadata": {},
   "outputs": [],
   "source": [
    "models = ['NB','LR','SVM','RF','GBT']\n",
    "languages = ['english_1','filipino','chinese','korean']"
   ]
  },
  {
   "cell_type": "code",
   "execution_count": 11,
   "id": "080dd8c4",
   "metadata": {},
   "outputs": [],
   "source": [
    "# import os\n",
    "# import pickle"
   ]
  },
  {
   "cell_type": "markdown",
   "id": "d03b3c67",
   "metadata": {},
   "source": [
    "# Word Level"
   ]
  },
  {
   "cell_type": "code",
   "execution_count": 12,
   "id": "eb5cbfc7",
   "metadata": {},
   "outputs": [
    {
     "name": "stdout",
     "output_type": "stream",
     "text": [
      "english_1\n"
     ]
    },
    {
     "data": {
      "application/vnd.jupyter.widget-view+json": {
       "model_id": "141a7e19d742445cb369716c309f18bf",
       "version_major": 2,
       "version_minor": 0
      },
      "text/plain": [
       "  0%|          | 0/5 [00:00<?, ?it/s]"
      ]
     },
     "metadata": {},
     "output_type": "display_data"
    },
    {
     "name": "stdout",
     "output_type": "stream",
     "text": [
      "NB\n",
      "               precision    recall  f1-score   support\n",
      "\n",
      "    offensive       0.88      1.00      0.93      4124\n",
      "not_offensive       0.93      0.32      0.47       833\n",
      "\n",
      "     accuracy                           0.88      4957\n",
      "    macro avg       0.90      0.66      0.70      4957\n",
      " weighted avg       0.89      0.88      0.86      4957\n",
      "\n",
      "======================\n",
      "LR\n",
      "               precision    recall  f1-score   support\n",
      "\n",
      "    offensive       0.95      0.98      0.96      4124\n",
      "not_offensive       0.88      0.73      0.80       833\n",
      "\n",
      "     accuracy                           0.94      4957\n",
      "    macro avg       0.92      0.86      0.88      4957\n",
      " weighted avg       0.94      0.94      0.94      4957\n",
      "\n",
      "======================\n",
      "SVM\n",
      "               precision    recall  f1-score   support\n",
      "\n",
      "    offensive       0.91      0.99      0.95      4124\n",
      "not_offensive       0.90      0.54      0.68       833\n",
      "\n",
      "     accuracy                           0.91      4957\n",
      "    macro avg       0.91      0.76      0.81      4957\n",
      " weighted avg       0.91      0.91      0.90      4957\n",
      "\n",
      "======================\n",
      "RF\n",
      "               precision    recall  f1-score   support\n",
      "\n",
      "    offensive       0.93      0.98      0.96      4124\n",
      "not_offensive       0.90      0.66      0.76       833\n",
      "\n",
      "     accuracy                           0.93      4957\n",
      "    macro avg       0.92      0.82      0.86      4957\n",
      " weighted avg       0.93      0.93      0.93      4957\n",
      "\n",
      "======================\n",
      "GBT\n",
      "               precision    recall  f1-score   support\n",
      "\n",
      "    offensive       0.96      0.97      0.96      4124\n",
      "not_offensive       0.83      0.78      0.80       833\n",
      "\n",
      "     accuracy                           0.94      4957\n",
      "    macro avg       0.89      0.87      0.88      4957\n",
      " weighted avg       0.93      0.94      0.94      4957\n",
      "\n",
      "======================\n",
      "filipino\n"
     ]
    },
    {
     "data": {
      "application/vnd.jupyter.widget-view+json": {
       "model_id": "8c9c0c3a4c7b4551b93d91d61a43dcd5",
       "version_major": 2,
       "version_minor": 0
      },
      "text/plain": [
       "  0%|          | 0/5 [00:00<?, ?it/s]"
      ]
     },
     "metadata": {},
     "output_type": "display_data"
    },
    {
     "name": "stdout",
     "output_type": "stream",
     "text": [
      "NB\n",
      "               precision    recall  f1-score   support\n",
      "\n",
      "    offensive       0.73      0.78      0.75      2251\n",
      "not_offensive       0.79      0.75      0.77      2596\n",
      "\n",
      "     accuracy                           0.76      4847\n",
      "    macro avg       0.76      0.76      0.76      4847\n",
      " weighted avg       0.76      0.76      0.76      4847\n",
      "\n",
      "======================\n",
      "LR\n",
      "               precision    recall  f1-score   support\n",
      "\n",
      "    offensive       0.82      0.79      0.80      2251\n",
      "not_offensive       0.82      0.85      0.84      2596\n",
      "\n",
      "     accuracy                           0.82      4847\n",
      "    macro avg       0.82      0.82      0.82      4847\n",
      " weighted avg       0.82      0.82      0.82      4847\n",
      "\n",
      "======================\n",
      "SVM\n",
      "               precision    recall  f1-score   support\n",
      "\n",
      "    offensive       0.79      0.75      0.77      2251\n",
      "not_offensive       0.79      0.82      0.81      2596\n",
      "\n",
      "     accuracy                           0.79      4847\n",
      "    macro avg       0.79      0.79      0.79      4847\n",
      " weighted avg       0.79      0.79      0.79      4847\n",
      "\n",
      "======================\n",
      "RF\n",
      "               precision    recall  f1-score   support\n",
      "\n",
      "    offensive       0.89      0.88      0.88      2251\n",
      "not_offensive       0.89      0.91      0.90      2596\n",
      "\n",
      "     accuracy                           0.89      4847\n",
      "    macro avg       0.89      0.89      0.89      4847\n",
      " weighted avg       0.89      0.89      0.89      4847\n",
      "\n",
      "======================\n",
      "GBT\n",
      "               precision    recall  f1-score   support\n",
      "\n",
      "    offensive       0.75      0.65      0.70      2251\n",
      "not_offensive       0.73      0.81      0.77      2596\n",
      "\n",
      "     accuracy                           0.74      4847\n",
      "    macro avg       0.74      0.73      0.73      4847\n",
      " weighted avg       0.74      0.74      0.74      4847\n",
      "\n",
      "======================\n",
      "chinese\n"
     ]
    },
    {
     "data": {
      "application/vnd.jupyter.widget-view+json": {
       "model_id": "4e9421fddb324e5ebfc45adcde4795c9",
       "version_major": 2,
       "version_minor": 0
      },
      "text/plain": [
       "  0%|          | 0/5 [00:00<?, ?it/s]"
      ]
     },
     "metadata": {},
     "output_type": "display_data"
    },
    {
     "name": "stdout",
     "output_type": "stream",
     "text": [
      "NB\n",
      "               precision    recall  f1-score   support\n",
      "\n",
      "    offensive       0.62      0.03      0.06       619\n",
      "not_offensive       0.66      0.99      0.79      1175\n",
      "\n",
      "     accuracy                           0.66      1794\n",
      "    macro avg       0.64      0.51      0.42      1794\n",
      " weighted avg       0.65      0.66      0.54      1794\n",
      "\n",
      "======================\n",
      "LR\n",
      "               precision    recall  f1-score   support\n",
      "\n",
      "    offensive       0.46      0.06      0.10       619\n",
      "not_offensive       0.66      0.97      0.78      1175\n",
      "\n",
      "     accuracy                           0.65      1794\n",
      "    macro avg       0.56      0.51      0.44      1794\n",
      " weighted avg       0.59      0.65      0.55      1794\n",
      "\n",
      "======================\n",
      "SVM\n",
      "               precision    recall  f1-score   support\n",
      "\n",
      "    offensive       0.44      0.05      0.08       619\n",
      "not_offensive       0.66      0.97      0.78      1175\n",
      "\n",
      "     accuracy                           0.65      1794\n",
      "    macro avg       0.55      0.51      0.43      1794\n",
      " weighted avg       0.58      0.65      0.54      1794\n",
      "\n",
      "======================\n",
      "RF\n",
      "               precision    recall  f1-score   support\n",
      "\n",
      "    offensive       0.42      0.05      0.08       619\n",
      "not_offensive       0.66      0.97      0.78      1175\n",
      "\n",
      "     accuracy                           0.65      1794\n",
      "    macro avg       0.54      0.51      0.43      1794\n",
      " weighted avg       0.58      0.65      0.54      1794\n",
      "\n",
      "======================\n",
      "GBT\n",
      "               precision    recall  f1-score   support\n",
      "\n",
      "    offensive       0.43      0.05      0.09       619\n",
      "not_offensive       0.66      0.96      0.78      1175\n",
      "\n",
      "     accuracy                           0.65      1794\n",
      "    macro avg       0.54      0.51      0.44      1794\n",
      " weighted avg       0.58      0.65      0.54      1794\n",
      "\n",
      "======================\n",
      "korean\n"
     ]
    },
    {
     "data": {
      "application/vnd.jupyter.widget-view+json": {
       "model_id": "7ec09c8ccc9342828ccec7735fe080b9",
       "version_major": 2,
       "version_minor": 0
      },
      "text/plain": [
       "  0%|          | 0/5 [00:00<?, ?it/s]"
      ]
     },
     "metadata": {},
     "output_type": "display_data"
    },
    {
     "name": "stdout",
     "output_type": "stream",
     "text": [
      "NB\n",
      "               precision    recall  f1-score   support\n",
      "\n",
      "not_offensive       0.73      0.39      0.51       697\n",
      "    offensive       0.66      0.89      0.75       903\n",
      "\n",
      "     accuracy                           0.67      1600\n",
      "    macro avg       0.69      0.64      0.63      1600\n",
      " weighted avg       0.69      0.67      0.65      1600\n",
      "\n",
      "======================\n",
      "LR\n",
      "               precision    recall  f1-score   support\n",
      "\n",
      "not_offensive       0.65      0.50      0.56       697\n",
      "    offensive       0.67      0.80      0.73       903\n",
      "\n",
      "     accuracy                           0.67      1600\n",
      "    macro avg       0.66      0.65      0.65      1600\n",
      " weighted avg       0.66      0.67      0.66      1600\n",
      "\n",
      "======================\n",
      "SVM\n",
      "               precision    recall  f1-score   support\n",
      "\n",
      "not_offensive       0.67      0.48      0.56       697\n",
      "    offensive       0.67      0.82      0.74       903\n",
      "\n",
      "     accuracy                           0.67      1600\n",
      "    macro avg       0.67      0.65      0.65      1600\n",
      " weighted avg       0.67      0.67      0.66      1600\n",
      "\n",
      "======================\n",
      "RF\n",
      "               precision    recall  f1-score   support\n",
      "\n",
      "not_offensive       0.61      0.46      0.53       697\n",
      "    offensive       0.65      0.77      0.71       903\n",
      "\n",
      "     accuracy                           0.64      1600\n",
      "    macro avg       0.63      0.62      0.62      1600\n",
      " weighted avg       0.63      0.64      0.63      1600\n",
      "\n",
      "======================\n",
      "GBT\n",
      "               precision    recall  f1-score   support\n",
      "\n",
      "not_offensive       0.63      0.35      0.45       697\n",
      "    offensive       0.63      0.84      0.72       903\n",
      "\n",
      "     accuracy                           0.63      1600\n",
      "    macro avg       0.63      0.60      0.58      1600\n",
      " weighted avg       0.63      0.63      0.60      1600\n",
      "\n",
      "======================\n"
     ]
    }
   ],
   "source": [
    "args = {'feature_level':'word',\n",
    "        'clf':'LR',\n",
    "        'language':None,\n",
    "        'ngram_range':(1,3),\n",
    "        'max_features':14000,\n",
    "        \n",
    "       }\n",
    "\n",
    "for lang in languages:\n",
    "    args['language'] = lang\n",
    "\n",
    "    print(args['language'])\n",
    "    for m in tqdm(models):\n",
    "\n",
    "        with open(f\"processed_data/{args['language']}_processed.pkl\", \"rb\") as f:\n",
    "            _data = pickle.load(f)\n",
    "\n",
    "        clf = train(m,args['ngram_range'],args['feature_level'],args['max_features'],_data,list(_data['label_dict'].keys()))\n",
    "\n",
    "        model_name = args['language']+'_'+m+'_'+args[\"feature_level\"]+'.joblib'\n",
    "        dump(clf, f'output/{model_name}') \n"
   ]
  },
  {
   "cell_type": "markdown",
   "id": "14845eda",
   "metadata": {},
   "source": [
    "# Char Level"
   ]
  },
  {
   "cell_type": "code",
   "execution_count": null,
   "id": "dcfef3f9",
   "metadata": {},
   "outputs": [
    {
     "name": "stdout",
     "output_type": "stream",
     "text": [
      "english_1\n"
     ]
    },
    {
     "data": {
      "application/vnd.jupyter.widget-view+json": {
       "model_id": "f9b17762e11847eaa64aad85c5a18c49",
       "version_major": 2,
       "version_minor": 0
      },
      "text/plain": [
       "  0%|          | 0/5 [00:00<?, ?it/s]"
      ]
     },
     "metadata": {},
     "output_type": "display_data"
    },
    {
     "name": "stdout",
     "output_type": "stream",
     "text": [
      "NB\n",
      "               precision    recall  f1-score   support\n",
      "\n",
      "    offensive       0.86      1.00      0.92      4124\n",
      "not_offensive       0.88      0.17      0.28       833\n",
      "\n",
      "     accuracy                           0.86      4957\n",
      "    macro avg       0.87      0.58      0.60      4957\n",
      " weighted avg       0.86      0.86      0.81      4957\n",
      "\n",
      "======================\n",
      "LR\n",
      "               precision    recall  f1-score   support\n",
      "\n",
      "    offensive       0.95      0.98      0.96      4124\n",
      "not_offensive       0.87      0.76      0.81       833\n",
      "\n",
      "     accuracy                           0.94      4957\n",
      "    macro avg       0.91      0.87      0.89      4957\n",
      " weighted avg       0.94      0.94      0.94      4957\n",
      "\n",
      "======================\n"
     ]
    }
   ],
   "source": [
    "args = {'feature_level':'char',\n",
    "        'clf':'LR',\n",
    "        'language':None,\n",
    "        'ngram_range':(1,3),\n",
    "        'max_features':53000,\n",
    "        \n",
    "       }\n",
    "\n",
    "for lang in languages:\n",
    "    args['language'] = lang\n",
    "\n",
    "    print(args['language'])\n",
    "    for m in tqdm(models):\n",
    "\n",
    "        with open(f\"processed_data/{args['language']}_processed.pkl\", \"rb\") as f:\n",
    "            _data = pickle.load(f)\n",
    "\n",
    "        clf = train(m,args['ngram_range'],args['feature_level'],args['max_features'],_data,list(_data['label_dict'].keys()))\n",
    "\n",
    "        model_name = args['language']+'_'+m+'_'+args[\"feature_level\"]+'.joblib'\n",
    "        dump(clf, f'output/{model_name}') \n"
   ]
  },
  {
   "cell_type": "markdown",
   "id": "00eef68c",
   "metadata": {},
   "source": [
    "# Next"
   ]
  }
 ],
 "metadata": {
  "kernelspec": {
   "display_name": "Python 3 (ipykernel)",
   "language": "python",
   "name": "python3"
  },
  "language_info": {
   "codemirror_mode": {
    "name": "ipython",
    "version": 3
   },
   "file_extension": ".py",
   "mimetype": "text/x-python",
   "name": "python",
   "nbconvert_exporter": "python",
   "pygments_lexer": "ipython3",
   "version": "3.8.6"
  }
 },
 "nbformat": 4,
 "nbformat_minor": 5
}
