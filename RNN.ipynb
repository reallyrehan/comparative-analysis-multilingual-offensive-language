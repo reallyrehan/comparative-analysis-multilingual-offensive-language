{
 "cells": [
  {
   "cell_type": "code",
   "execution_count": 187,
   "id": "Go7aY_3G0-ne",
   "metadata": {
    "colab": {
     "base_uri": "https://localhost:8080/"
    },
    "id": "Go7aY_3G0-ne",
    "outputId": "4ec6e7eb-f526-4fc8-d37f-6093398254b4"
   },
   "outputs": [
    {
     "name": "stdout",
     "output_type": "stream",
     "text": [
      "Requirement already satisfied: wordsegment in /usr/local/lib/python3.7/dist-packages (1.3.1)\n"
     ]
    }
   ],
   "source": [
    "pip install wordsegment"
   ]
  },
  {
   "cell_type": "code",
   "execution_count": 188,
   "id": "pHFqYUFGacF-",
   "metadata": {
    "colab": {
     "base_uri": "https://localhost:8080/"
    },
    "id": "pHFqYUFGacF-",
    "outputId": "918db053-a147-41b1-df94-7a95b6bf29de"
   },
   "outputs": [
    {
     "name": "stdout",
     "output_type": "stream",
     "text": [
      "Requirement already satisfied: hyperopt in /usr/local/lib/python3.7/dist-packages (0.1.2)\n",
      "Requirement already satisfied: numpy in /usr/local/lib/python3.7/dist-packages (from hyperopt) (1.19.5)\n",
      "Requirement already satisfied: tqdm in /usr/local/lib/python3.7/dist-packages (from hyperopt) (4.62.3)\n",
      "Requirement already satisfied: networkx in /usr/local/lib/python3.7/dist-packages (from hyperopt) (2.6.3)\n",
      "Requirement already satisfied: six in /usr/local/lib/python3.7/dist-packages (from hyperopt) (1.15.0)\n",
      "Requirement already satisfied: pymongo in /usr/local/lib/python3.7/dist-packages (from hyperopt) (3.12.1)\n",
      "Requirement already satisfied: scipy in /usr/local/lib/python3.7/dist-packages (from hyperopt) (1.4.1)\n",
      "Requirement already satisfied: future in /usr/local/lib/python3.7/dist-packages (from hyperopt) (0.16.0)\n"
     ]
    }
   ],
   "source": [
    "pip install hyperopt"
   ]
  },
  {
   "cell_type": "code",
   "execution_count": 189,
   "id": "c04c40f6",
   "metadata": {
    "id": "c04c40f6"
   },
   "outputs": [],
   "source": [
    "import numpy as np\n",
    "import pandas as pd\n",
    "import torch\n",
    "from hyperopt.pyll.base import scope \n",
    "import re\n",
    "import matplotlib.pyplot as plt\n",
    "from hyperopt import hp, tpe, fmin, Trials\n",
    "from collections import Counter\n",
    "from torch.nn.utils.rnn import pack_padded_sequence\n",
    "from sklearn.metrics import confusion_matrix, classification_report\n",
    "import csv\n",
    "import sys\n",
    "from wordsegment import segment, load\n",
    "from sklearn.model_selection import StratifiedKFold\n",
    "from sklearn.model_selection import train_test_split\n",
    "import os\n",
    "import random\n",
    "from nltk.tokenize import TweetTokenizer\n",
    "from torch.utils.data import Dataset, DataLoader,TensorDataset,random_split, ConcatDataset, WeightedRandomSampler\n",
    "import torch\n",
    "import torch.nn as nn\n",
    "import torch.nn.functional as F\n",
    "import torch.optim as optim"
   ]
  },
  {
   "cell_type": "code",
   "execution_count": 190,
   "id": "50d24bc5",
   "metadata": {
    "id": "50d24bc5"
   },
   "outputs": [],
   "source": [
    "# ----------------- build labels and text ------------------\n",
    "def remove_empty(text, label):\n",
    "  indices = []\n",
    "  for i in range(len(text)):\n",
    "      if not text[i]:\n",
    "        indices.append(i)\n",
    "  if indices:\n",
    "    text = np.delete(text, indices).tolist()\n",
    "    label = np.delete(label, indices)\n",
    "  return text, label\n",
    "\n",
    "def concat_data(id2entities):\n",
    "    text_train = id2entities['text_train']\n",
    "    text_val = id2entities['text_test']\n",
    "    label_dict = id2entities['label_dict']\n",
    "    label_train = id2entities['label_train']\n",
    "    label_val = id2entities['label_test']\n",
    "    num_classes = len(label_dict)\n",
    "    label_train = np.nonzero(label_train)[1]\n",
    "    label_val = np.nonzero(label_val)[1]\n",
    "    text_train, label_train = remove_empty(text_train, label_train)\n",
    "    text_val, label_val = remove_empty(text_val, label_val)\n",
    "    return text_train, text_val, label_train, label_val, label_dict"
   ]
  },
  {
   "cell_type": "code",
   "execution_count": 191,
   "id": "02e36253",
   "metadata": {
    "id": "02e36253"
   },
   "outputs": [],
   "source": [
    "# ----------------- pre-process text ------------------\n",
    "\n",
    "def text_preprocess(text, tknzr):\n",
    "    FLAGS = re.MULTILINE | re.DOTALL\n",
    "    # Different regex parts for smiley faces\n",
    "    eyes = r\"[8:=;]\"\n",
    "    nose = r\"['`\\-]?\"\n",
    "\n",
    "    # function so code is less repetitive\n",
    "    def re_sub(pattern, repl):\n",
    "        return re.sub(pattern, repl, text, flags=FLAGS)\n",
    "\n",
    "    text = re_sub(r\"https?:\\/\\/\\S+\\b|www\\.(\\w+\\.)+\\S*\", \"<url>\")\n",
    "    text = re_sub(r\"/\",\" / \")\n",
    "    text = re_sub(r\"@\\w+\", \"<user>\")\n",
    "    text = re_sub(r\"{}{}[)dD]+|[)dD]+{}{}\".format(eyes, nose, nose, eyes), \"<smile>\")\n",
    "    text = re_sub(r\"{}{}p+\".format(eyes, nose), \"<lolface>\")\n",
    "    text = re_sub(r\"{}{}\\(+|\\)+{}{}\".format(eyes, nose, nose, eyes), \"<sadface>\")\n",
    "    text = re_sub(r\"{}{}[\\/|l*]\".format(eyes, nose), \"<neutralface>\")\n",
    "    text = re_sub(r\"<3\",\"<heart>\")\n",
    "    text = re_sub(r\"[-+]?[.\\d]*[\\d]+[:,.\\d]*\", \"<number>\")\n",
    "    text = re_sub(r\"([!?.]){2,}\", r\"\\1 <repeat>\")\n",
    "    text = re_sub(r\"\\b(\\S*?)(.)\\2{2,}\\b\", r\"\\1\\2 <elong>\")\n",
    "    text = re_sub(r\"#\\S+\", lambda hashtag: \" \".join(segment(hashtag.group()[1:]))) # segment hastags\n",
    "    tokens = tknzr.tokenize(text.lower())\n",
    "    return \" \".join(tokens)\n"
   ]
  },
  {
   "cell_type": "code",
   "execution_count": 192,
   "id": "9d2e1261",
   "metadata": {
    "id": "9d2e1261"
   },
   "outputs": [],
   "source": [
    "# ----------------- build dictionary ------------------\n",
    "\n",
    "def build_dict(corp, mode):\n",
    "  wordcount = dict()\n",
    "  wordcount['<pad>'] = len(wordcount)\n",
    "\n",
    "  for ss in corp:   # for all sentences\n",
    "      if mode!= 'char':\n",
    "        words = ss.strip().lower().split()\n",
    "        for w in words:  # for all words in a sentence      \n",
    "          if w not in wordcount:\n",
    "              wordcount[w] = len(wordcount)\n",
    "      else:\n",
    "        for char in list(ss.strip().lower()):\n",
    "          if char not in wordcount:\n",
    "            wordcount[char] = len(wordcount)\n",
    "      \n",
    "  return(wordcount)"
   ]
  },
  {
   "cell_type": "code",
   "execution_count": 193,
   "id": "30e91049",
   "metadata": {
    "id": "30e91049"
   },
   "outputs": [],
   "source": [
    "# ----------------- convert text into list of index mapping using dictionary ------------------\n",
    "\n",
    "def grab_data(_text, dictionary, sentence_length, mode):\n",
    "    \"\"\"\n",
    "    Args:\n",
    "        _text (list(string)): list of comments\n",
    "        dictionary (dict): vocab in (word: frequency) format\n",
    "\n",
    "    Returns:\n",
    "        word_vectors (list(list(int))): list of sentences converted to list of word vectors\n",
    "    \"\"\"\n",
    "\n",
    "    sentences = []\n",
    "    sequence_length = []\n",
    "    for ss in _text:\n",
    "        if mode!= 'char':\n",
    "          words = ss.strip().lower().split()[:sentence_length]\n",
    "        else:\n",
    "          words = list(ss.strip().lower())[:sentence_length]\n",
    "        sentence = [dictionary[w] if w in dictionary else 1 for w in words]\n",
    "        sequence_length.append(len(sentence))\n",
    "        sentence += [0] * (sentence_length - len(sentence))\n",
    "        # words: is a list containing the words in the sentence.\n",
    "        sentences.append(sentence)\n",
    "        \n",
    "    return sentences, sequence_length"
   ]
  },
  {
   "cell_type": "code",
   "execution_count": 194,
   "id": "318b587b",
   "metadata": {
    "id": "318b587b"
   },
   "outputs": [],
   "source": [
    "# ----------------- calculate weights for weighted sampler ----------------\n",
    "\n",
    "def make_weights_for_balanced_classes(nclasses):                        \n",
    "    count=Counter(nclasses)\n",
    "    class_count=np.array([count[i] for i in count])\n",
    "    weight=1./class_count\n",
    "    return weight "
   ]
  },
  {
   "cell_type": "code",
   "execution_count": 195,
   "id": "76474c7b",
   "metadata": {
    "id": "76474c7b"
   },
   "outputs": [],
   "source": [
    "# ----------------- generate weighted random sampler for stratified batches ----------------\n",
    "\n",
    "def generate_weighted_sampler(dataset):\n",
    "    weights = make_weights_for_balanced_classes(dataset.labels)\n",
    "    weights = torch.DoubleTensor(weights)\n",
    "    samples_weight = np.array([weights[t] for t in dataset.labels])\n",
    "    return WeightedRandomSampler(samples_weight, len(samples_weight))"
   ]
  },
  {
   "cell_type": "code",
   "execution_count": 196,
   "id": "561b3434",
   "metadata": {
    "id": "561b3434"
   },
   "outputs": [],
   "source": [
    "\n",
    "# ----------------- load and split data ----------------\n",
    "\n",
    "with open('train_path.txt') as f:\n",
    "    args = f.readline().strip().split()\n",
    "    train_path = args[0]\n",
    "    mode = args[2]\n",
    "    \n",
    "    \n",
    "data = pd.read_pickle(train_path)\n",
    "text_train, text_val, label_train, label_val, label_dict = concat_data(data)\n",
    "\n",
    "for i in range(len(text_train)):\n",
    "  if not text_train[i]:\n",
    "    print(i)\n",
    "\n",
    "word_dict = build_dict(text_train + text_val, mode)\n",
    "# padding_idx = len(word_dict)\n"
   ]
  },
  {
   "cell_type": "code",
   "execution_count": 197,
   "id": "TlbHOZXyIF_q",
   "metadata": {
    "colab": {
     "base_uri": "https://localhost:8080/"
    },
    "id": "TlbHOZXyIF_q",
    "outputId": "dc09f3d0-cc38-4f34-9865-270b637adb96"
   },
   "outputs": [
    {
     "name": "stdout",
     "output_type": "stream",
     "text": [
      "{'not_offensive': 0, 'offensive': 1}\n"
     ]
    }
   ],
   "source": [
    "print(label_dict)"
   ]
  },
  {
   "cell_type": "code",
   "execution_count": 198,
   "id": "Y-O9KXdZa5Ce",
   "metadata": {
    "colab": {
     "base_uri": "https://localhost:8080/"
    },
    "id": "Y-O9KXdZa5Ce",
    "outputId": "72005a78-764c-41d2-b147-bfaa516dbcfb"
   },
   "outputs": [
    {
     "name": "stdout",
     "output_type": "stream",
     "text": [
      "Train Label Frequencies: \n",
      "[[    0 43080]\n",
      " [    1 25692]] \n",
      "\n",
      "Validation Label Frequencies: \n",
      "[[    0 10771]\n",
      " [    1  6423]] \n",
      "\n"
     ]
    }
   ],
   "source": [
    "def freq_count(labels):\n",
    "  (unique, counts) = np.unique(labels, return_counts=True)\n",
    "  frequencies = np.asarray((unique, counts)).T\n",
    "  print(frequencies,\"\\n\")\n",
    "print(\"Train Label Frequencies: \")\n",
    "freq_count(label_train)\n",
    "print(\"Validation Label Frequencies: \")\n",
    "freq_count(label_val)"
   ]
  },
  {
   "cell_type": "code",
   "execution_count": 199,
   "id": "e2157485",
   "metadata": {
    "id": "e2157485"
   },
   "outputs": [],
   "source": [
    "# ----------------- Custom Dataset ----------------\n",
    "\n",
    "class AbusiveLanguageDetection(Dataset):\n",
    "    \"\"\"Abusive Language Detection.\"\"\"\n",
    "    \n",
    "    def __init__(self, _text, _label, word_dict, sentence_length, mode):\n",
    "        \"\"\"\n",
    "        Args:\n",
    "            _text (list(string)): list of comments\n",
    "            _label (integer): labels in range 0 - 2\n",
    "        \"\"\"\n",
    "        self.text, self.sequence_length = grab_data(_text, word_dict, sentence_length, mode)\n",
    "        self.labels = _label\n",
    "        self.length = len(self.text)\n",
    "\n",
    "    def __len__(self):\n",
    "        return self.length\n",
    "\n",
    "    def __getitem__(self, idx):\n",
    "        return torch.tensor(self.text[idx]), torch.tensor(self.labels[idx], dtype=torch.int64), self.sequence_length[idx]"
   ]
  },
  {
   "cell_type": "code",
   "execution_count": 216,
   "id": "622dde6c",
   "metadata": {
    "id": "622dde6c"
   },
   "outputs": [],
   "source": [
    "# ----------------- Prepare Data Loaders ----------------\n",
    "\n",
    "batch_size = 32\n",
    "sentence_length = 100\n",
    "train_dataset = AbusiveLanguageDetection(text_train, label_train, word_dict, sentence_length, mode)\n",
    "val_dataset = AbusiveLanguageDetection(text_val, label_val, word_dict, sentence_length, mode)\n",
    "train_sampler = generate_weighted_sampler(train_dataset)\n",
    "val_sampler = generate_weighted_sampler(val_dataset)\n",
    "train_loader = DataLoader(train_dataset, batch_size=batch_size, sampler=train_sampler)\n",
    "val_loader = DataLoader(val_dataset, batch_size=batch_size, sampler=val_sampler)"
   ]
  },
  {
   "cell_type": "code",
   "execution_count": 201,
   "id": "9d47224f",
   "metadata": {
    "id": "9d47224f"
   },
   "outputs": [],
   "source": [
    "# ----------------- Define Model ----------------\n",
    "\n",
    "class LSTM(nn.Module):\n",
    "\n",
    "    def __init__(self, embedding_dim, hidden_dim, vocab_size, sentence_size, tagset_size):\n",
    "        super(LSTM, self).__init__()\n",
    "        self.hidden_dim = hidden_dim\n",
    "        self.word_embeddings = nn.Embedding(vocab_size, embedding_dim, padding_idx=0)\n",
    "        self.lstm = nn.LSTM(embedding_dim, hidden_dim, batch_first = True)\n",
    "        self.hidden2hidden = nn.Linear(hidden_dim, sentence_size)\n",
    "        self.relu = nn.ReLU()\n",
    "        self.hidden2tag = nn.Linear(sentence_size, tagset_size)\n",
    "        self.dropout = nn.Dropout(0.33)\n",
    "\n",
    "    def forward(self, sentence, lengths):\n",
    "        embeds = self.word_embeddings(sentence)\n",
    "        embeds = pack_padded_sequence(embeds, lengths, batch_first=True, enforce_sorted=False)\n",
    "        lstm_out, (hn, cn) = self.lstm(embeds)\n",
    "        classifier = self.hidden2hidden(hn[-1,:,:])\n",
    "        classifier = self.relu(self.dropout(classifier))\n",
    "        tag_scores = self.hidden2tag(classifier)\n",
    "        return tag_scores"
   ]
  },
  {
   "cell_type": "code",
   "execution_count": 202,
   "id": "c00a1723",
   "metadata": {
    "id": "c00a1723"
   },
   "outputs": [],
   "source": [
    "# ----------------- Define Training ----------------\n",
    "\n",
    "def train_epoch(model,device,dataloader,loss_fn,optimizer):\n",
    "    train_loss,train_correct=0.0,0\n",
    "    model.train()\n",
    "    for images, labels, sequence_length in dataloader:\n",
    "        images,labels = images.to(device),labels.to(device)\n",
    "        optimizer.zero_grad()\n",
    "        output = model(images, sequence_length)\n",
    "        loss = loss_fn(output,labels)\n",
    "        loss.backward()\n",
    "        optimizer.step()\n",
    "        train_loss += loss.item() * images.size(0)\n",
    "        scores, predictions = torch.max(output.data, 1)\n",
    "        train_correct += (predictions == labels).sum().item()\n",
    "\n",
    "    return train_loss,train_correct\n",
    "  \n",
    "def valid_epoch(model,device,dataloader,loss_fn):\n",
    "    valid_loss, val_correct = 0.0, 0\n",
    "    model.eval()\n",
    "    for images, labels, sequence_length in dataloader:\n",
    "        images,labels = images.to(device),labels.to(device)\n",
    "        output = model(images, sequence_length)\n",
    "        loss=loss_fn(output,labels)\n",
    "        valid_loss+=loss.item()*images.size(0)\n",
    "        scores, predictions = torch.max(output.data,1)\n",
    "        val_correct+=(predictions == labels).sum().item()\n",
    "\n",
    "    return valid_loss,val_correct"
   ]
  },
  {
   "cell_type": "code",
   "execution_count": 217,
   "id": "mkAFGXh5VTIc",
   "metadata": {
    "id": "mkAFGXh5VTIc"
   },
   "outputs": [],
   "source": [
    "device = torch.device(\"cuda:0\" if torch.cuda.is_available() else \"cpu\")\n",
    "embedding_dim = 300\n",
    "num_epochs = 10\n",
    "hidden_dim = 298\n",
    "learning_rate = 0.002\n",
    "vocab_size = len(word_dict)\n",
    "tagset_size = len(label_dict)"
   ]
  },
  {
   "cell_type": "code",
   "execution_count": 204,
   "id": "e5f3f59d",
   "metadata": {
    "colab": {
     "base_uri": "https://localhost:8080/"
    },
    "id": "e5f3f59d",
    "outputId": "bcef8c38-b255-44b2-9556-bc772e8406b9"
   },
   "outputs": [
    {
     "name": "stdout",
     "output_type": "stream",
     "text": [
      "Validation Loss has Decreased\n",
      "Epoch:1/10 AVG Training Loss:0.375 AVG Validation Loss:0.256 AVG Training Acc 83.77 % AVG Validation Acc 92.49 %\n",
      "Epoch:2/10 AVG Training Loss:0.270 AVG Validation Loss:0.287 AVG Training Acc 90.86 % AVG Validation Acc 92.78 %\n",
      "Validation Loss has Decreased\n",
      "Epoch:3/10 AVG Training Loss:0.254 AVG Validation Loss:0.227 AVG Training Acc 91.63 % AVG Validation Acc 94.20 %\n",
      "Validation Loss has Decreased\n",
      "Epoch:4/10 AVG Training Loss:0.247 AVG Validation Loss:0.200 AVG Training Acc 91.96 % AVG Validation Acc 94.64 %\n",
      "Epoch:5/10 AVG Training Loss:0.240 AVG Validation Loss:0.206 AVG Training Acc 92.23 % AVG Validation Acc 94.42 %\n",
      "Epoch:6/10 AVG Training Loss:0.236 AVG Validation Loss:0.212 AVG Training Acc 92.38 % AVG Validation Acc 94.50 %\n",
      "Epoch:7/10 AVG Training Loss:0.228 AVG Validation Loss:0.214 AVG Training Acc 92.66 % AVG Validation Acc 94.20 %\n",
      "Epoch:8/10 AVG Training Loss:0.230 AVG Validation Loss:0.260 AVG Training Acc 92.54 % AVG Validation Acc 92.72 %\n",
      "Epoch:9/10 AVG Training Loss:0.228 AVG Validation Loss:0.265 AVG Training Acc 92.62 % AVG Validation Acc 92.97 %\n",
      "Epoch:10/10 AVG Training Loss:0.227 AVG Validation Loss:0.215 AVG Training Acc 92.56 % AVG Validation Acc 94.20 %\n"
     ]
    }
   ],
   "source": [
    "# ----------------- Train ----------------\n",
    "model = LSTM(embedding_dim, hidden_dim, vocab_size + 1, 200, tagset_size)\n",
    "model.to(device)\n",
    "optimizer = optim.Adam(model.parameters(), lr=learning_rate)\n",
    "criterion_weight = torch.FloatTensor(make_weights_for_balanced_classes(train_dataset.labels)).to(device)\n",
    "criterion = nn.CrossEntropyLoss()\n",
    "history = {'train_loss': [], 'val_loss': [],'train_acc':[],'val_acc':[]}\n",
    "max_val_loss = float('inf')\n",
    "for epoch in range(num_epochs):\n",
    "    train_loss, train_correct=train_epoch(model,device,train_loader,criterion,optimizer)\n",
    "    val_loss, val_correct=valid_epoch(model,device,val_loader,criterion)\n",
    "    train_loss = train_loss / len(train_loader.sampler)\n",
    "    train_acc = train_correct / len(train_loader.sampler) * 100\n",
    "    val_loss = val_loss / len(val_loader.sampler)\n",
    "    val_acc = val_correct / len(val_loader.sampler) * 100\n",
    "    if val_loss < max_val_loss:\n",
    "        max_val_loss = val_loss\n",
    "        print(\"Validation Loss has Decreased\")\n",
    "        torch.save(model,'LSTM.pt')\n",
    "\n",
    "    print(\"Epoch:{}/{} AVG Training Loss:{:.3f} AVG Validation Loss:{:.3f} AVG Training Acc {:.2f} % AVG Validation Acc {:.2f} %\".format(epoch + 1,\n",
    "                                                                                                        num_epochs,\n",
    "                                                                                                        train_loss,\n",
    "                                                                                                        val_loss,\n",
    "                                                                                                        train_acc,\n",
    "                                                                                                        val_acc))\n",
    "    history['train_loss'].append(train_loss)\n",
    "    history['val_loss'].append(val_loss)\n",
    "    history['train_acc'].append(train_acc)\n",
    "    history['val_acc'].append(val_acc)"
   ]
  },
  {
   "cell_type": "code",
   "execution_count": 206,
   "id": "lYPJnPw_9Xgb",
   "metadata": {
    "id": "lYPJnPw_9Xgb"
   },
   "outputs": [],
   "source": [
    "# ----------------- Evaluate ----------------\n",
    "\n",
    "def evaluation(model, data_loader, label_dict):\n",
    "  pred_y = []\n",
    "  true_y = []\n",
    "  val_correct = 0\n",
    "  model.eval()\n",
    "  for images, labels, sequence_length in data_loader:\n",
    "    images,labels = images.to(device),labels.to(device)\n",
    "    output = F.log_softmax(model(images, sequence_length), dim=1)\n",
    "    scores, predictions = torch.max(output.data,1)\n",
    "    pred_y += predictions.tolist()\n",
    "    true_y += labels.tolist()\n",
    "    val_correct+=(predictions == labels).sum().item()\n",
    "  cm = confusion_matrix(true_y, pred_y)\n",
    "  print(classification_report(true_y, pred_y, target_names = label_dict.keys(), digits=5))\n",
    "  print(\"Confusion Matrix: \\n\", cm)\n",
    "\n"
   ]
  },
  {
   "cell_type": "code",
   "execution_count": 207,
   "id": "QvKbSzhrR279",
   "metadata": {
    "colab": {
     "base_uri": "https://localhost:8080/"
    },
    "id": "QvKbSzhrR279",
    "outputId": "a019abf3-5f81-4156-a562-e623290a9ab5"
   },
   "outputs": [
    {
     "name": "stdout",
     "output_type": "stream",
     "text": [
      "               precision    recall  f1-score   support\n",
      "\n",
      "not_offensive    0.95298   0.96657   0.95973     12624\n",
      "    offensive    0.90387   0.86827   0.88571      4570\n",
      "\n",
      "     accuracy                        0.94044     17194\n",
      "    macro avg    0.92843   0.91742   0.92272     17194\n",
      " weighted avg    0.93993   0.94044   0.94006     17194\n",
      "\n",
      "Confusion Matrix: \n",
      " [[12202   422]\n",
      " [  602  3968]]\n"
     ]
    }
   ],
   "source": [
    "model = torch.load('LSTM.pt')\n",
    "evaluation(model, val_loader, label_dict)"
   ]
  },
  {
   "cell_type": "markdown",
   "id": "BpmDqVccOXQ3",
   "metadata": {
    "id": "BpmDqVccOXQ3"
   },
   "source": [
    "# BILSTM"
   ]
  },
  {
   "cell_type": "code",
   "execution_count": 219,
   "id": "5glT1DUrR7BV",
   "metadata": {
    "id": "5glT1DUrR7BV"
   },
   "outputs": [],
   "source": [
    "# ----------------- Define Model ----------------\n",
    "\n",
    "class BLSTM(nn.Module):\n",
    "\n",
    "    def __init__(self, embedding_dim, hidden_dim, vocab_size, sentence_size, tagset_size):\n",
    "        super(BLSTM, self).__init__()\n",
    "        self.hidden_dim = hidden_dim\n",
    "        self.word_embeddings = nn.Embedding(vocab_size, embedding_dim)\n",
    "        self.lstm = nn.LSTM(embedding_dim, hidden_dim // 2, batch_first = True, bidirectional = True)\n",
    "        self.hidden2hidden = nn.Linear(hidden_dim, sentence_size)\n",
    "        self.relu = nn.ReLU()\n",
    "        self.hidden2tag = nn.Linear(sentence_size, tagset_size)\n",
    "        self.dropout = nn.Dropout(0.33)\n",
    "\n",
    "    def forward(self, sentence, lengths):\n",
    "        embeds = self.word_embeddings(sentence)\n",
    "        embeds = pack_padded_sequence(embeds, lengths, batch_first=True, enforce_sorted=False)\n",
    "        lstm_out, (hn, cn) = self.lstm(embeds)\n",
    "        hn = self.dropout(hn)\n",
    "        classifier = self.hidden2hidden(torch.cat((hn[-2,:,:], hn[-1,:,:]), dim = 1))\n",
    "        classifier = self.relu(self.dropout(classifier))\n",
    "        tag_scores = self.hidden2tag(classifier)\n",
    "        return tag_scores"
   ]
  },
  {
   "cell_type": "code",
   "execution_count": 220,
   "id": "Fd6zRMVeO4wY",
   "metadata": {
    "colab": {
     "base_uri": "https://localhost:8080/",
     "height": 630
    },
    "id": "Fd6zRMVeO4wY",
    "outputId": "6eebf74f-0a22-4d25-cbd2-296f365bbe8f"
   },
   "outputs": [
    {
     "name": "stdout",
     "output_type": "stream",
     "text": [
      "Validation Loss has Decreased\n",
      "Epoch:1/10 AVG Training Loss:0.356 AVG Validation Loss:0.267 AVG Training Acc 85.95 % AVG Validation Acc 93.06 %\n",
      "Validation Loss has Decreased\n",
      "Epoch:2/10 AVG Training Loss:0.299 AVG Validation Loss:0.262 AVG Training Acc 89.64 % AVG Validation Acc 92.25 %\n",
      "Validation Loss has Decreased\n",
      "Epoch:3/10 AVG Training Loss:0.283 AVG Validation Loss:0.256 AVG Training Acc 90.36 % AVG Validation Acc 93.54 %\n",
      "Validation Loss has Decreased\n",
      "Epoch:4/10 AVG Training Loss:0.283 AVG Validation Loss:0.254 AVG Training Acc 90.37 % AVG Validation Acc 93.22 %\n",
      "Validation Loss has Decreased\n",
      "Epoch:5/10 AVG Training Loss:0.276 AVG Validation Loss:0.247 AVG Training Acc 90.61 % AVG Validation Acc 93.81 %\n",
      "Epoch:6/10 AVG Training Loss:0.276 AVG Validation Loss:0.279 AVG Training Acc 90.69 % AVG Validation Acc 92.85 %\n",
      "Validation Loss has Decreased\n",
      "Epoch:7/10 AVG Training Loss:0.278 AVG Validation Loss:0.244 AVG Training Acc 90.65 % AVG Validation Acc 93.18 %\n",
      "Epoch:8/10 AVG Training Loss:0.276 AVG Validation Loss:0.262 AVG Training Acc 90.79 % AVG Validation Acc 93.03 %\n"
     ]
    },
    {
     "ename": "KeyboardInterrupt",
     "evalue": "ignored",
     "output_type": "error",
     "traceback": [
      "\u001b[0;31m---------------------------------------------------------------------------\u001b[0m",
      "\u001b[0;31mKeyboardInterrupt\u001b[0m                         Traceback (most recent call last)",
      "\u001b[0;32m<ipython-input-220-9807bb0c256d>\u001b[0m in \u001b[0;36m<module>\u001b[0;34m()\u001b[0m\n\u001b[1;32m     15\u001b[0m \u001b[0mmax_val_loss\u001b[0m \u001b[0;34m=\u001b[0m \u001b[0mfloat\u001b[0m\u001b[0;34m(\u001b[0m\u001b[0;34m'inf'\u001b[0m\u001b[0;34m)\u001b[0m\u001b[0;34m\u001b[0m\u001b[0;34m\u001b[0m\u001b[0m\n\u001b[1;32m     16\u001b[0m \u001b[0;32mfor\u001b[0m \u001b[0mepoch\u001b[0m \u001b[0;32min\u001b[0m \u001b[0mrange\u001b[0m\u001b[0;34m(\u001b[0m\u001b[0mnum_epochs\u001b[0m\u001b[0;34m)\u001b[0m\u001b[0;34m:\u001b[0m\u001b[0;34m\u001b[0m\u001b[0;34m\u001b[0m\u001b[0m\n\u001b[0;32m---> 17\u001b[0;31m     \u001b[0mtrain_loss\u001b[0m\u001b[0;34m,\u001b[0m \u001b[0mtrain_correct\u001b[0m\u001b[0;34m=\u001b[0m\u001b[0mtrain_epoch\u001b[0m\u001b[0;34m(\u001b[0m\u001b[0mblstm_model\u001b[0m\u001b[0;34m,\u001b[0m\u001b[0mdevice\u001b[0m\u001b[0;34m,\u001b[0m\u001b[0mtrain_loader\u001b[0m\u001b[0;34m,\u001b[0m\u001b[0mcriterion\u001b[0m\u001b[0;34m,\u001b[0m\u001b[0moptimizer\u001b[0m\u001b[0;34m)\u001b[0m\u001b[0;34m\u001b[0m\u001b[0;34m\u001b[0m\u001b[0m\n\u001b[0m\u001b[1;32m     18\u001b[0m     \u001b[0mval_loss\u001b[0m\u001b[0;34m,\u001b[0m \u001b[0mval_correct\u001b[0m\u001b[0;34m=\u001b[0m\u001b[0mvalid_epoch\u001b[0m\u001b[0;34m(\u001b[0m\u001b[0mblstm_model\u001b[0m\u001b[0;34m,\u001b[0m\u001b[0mdevice\u001b[0m\u001b[0;34m,\u001b[0m\u001b[0mval_loader\u001b[0m\u001b[0;34m,\u001b[0m\u001b[0mcriterion\u001b[0m\u001b[0;34m)\u001b[0m\u001b[0;34m\u001b[0m\u001b[0;34m\u001b[0m\u001b[0m\n\u001b[1;32m     19\u001b[0m     \u001b[0mtrain_loss\u001b[0m \u001b[0;34m=\u001b[0m \u001b[0mtrain_loss\u001b[0m \u001b[0;34m/\u001b[0m \u001b[0mlen\u001b[0m\u001b[0;34m(\u001b[0m\u001b[0mtrain_loader\u001b[0m\u001b[0;34m.\u001b[0m\u001b[0msampler\u001b[0m\u001b[0;34m)\u001b[0m\u001b[0;34m\u001b[0m\u001b[0;34m\u001b[0m\u001b[0m\n",
      "\u001b[0;32m<ipython-input-202-44b433c6b8fe>\u001b[0m in \u001b[0;36mtrain_epoch\u001b[0;34m(model, device, dataloader, loss_fn, optimizer)\u001b[0m\n\u001b[1;32m      9\u001b[0m         \u001b[0moutput\u001b[0m \u001b[0;34m=\u001b[0m \u001b[0mmodel\u001b[0m\u001b[0;34m(\u001b[0m\u001b[0mimages\u001b[0m\u001b[0;34m,\u001b[0m \u001b[0msequence_length\u001b[0m\u001b[0;34m)\u001b[0m\u001b[0;34m\u001b[0m\u001b[0;34m\u001b[0m\u001b[0m\n\u001b[1;32m     10\u001b[0m         \u001b[0mloss\u001b[0m \u001b[0;34m=\u001b[0m \u001b[0mloss_fn\u001b[0m\u001b[0;34m(\u001b[0m\u001b[0moutput\u001b[0m\u001b[0;34m,\u001b[0m\u001b[0mlabels\u001b[0m\u001b[0;34m)\u001b[0m\u001b[0;34m\u001b[0m\u001b[0;34m\u001b[0m\u001b[0m\n\u001b[0;32m---> 11\u001b[0;31m         \u001b[0mloss\u001b[0m\u001b[0;34m.\u001b[0m\u001b[0mbackward\u001b[0m\u001b[0;34m(\u001b[0m\u001b[0;34m)\u001b[0m\u001b[0;34m\u001b[0m\u001b[0;34m\u001b[0m\u001b[0m\n\u001b[0m\u001b[1;32m     12\u001b[0m         \u001b[0moptimizer\u001b[0m\u001b[0;34m.\u001b[0m\u001b[0mstep\u001b[0m\u001b[0;34m(\u001b[0m\u001b[0;34m)\u001b[0m\u001b[0;34m\u001b[0m\u001b[0;34m\u001b[0m\u001b[0m\n\u001b[1;32m     13\u001b[0m         \u001b[0mtrain_loss\u001b[0m \u001b[0;34m+=\u001b[0m \u001b[0mloss\u001b[0m\u001b[0;34m.\u001b[0m\u001b[0mitem\u001b[0m\u001b[0;34m(\u001b[0m\u001b[0;34m)\u001b[0m \u001b[0;34m*\u001b[0m \u001b[0mimages\u001b[0m\u001b[0;34m.\u001b[0m\u001b[0msize\u001b[0m\u001b[0;34m(\u001b[0m\u001b[0;36m0\u001b[0m\u001b[0;34m)\u001b[0m\u001b[0;34m\u001b[0m\u001b[0;34m\u001b[0m\u001b[0m\n",
      "\u001b[0;32m/usr/local/lib/python3.7/dist-packages/torch/_tensor.py\u001b[0m in \u001b[0;36mbackward\u001b[0;34m(self, gradient, retain_graph, create_graph, inputs)\u001b[0m\n\u001b[1;32m    305\u001b[0m                 \u001b[0mcreate_graph\u001b[0m\u001b[0;34m=\u001b[0m\u001b[0mcreate_graph\u001b[0m\u001b[0;34m,\u001b[0m\u001b[0;34m\u001b[0m\u001b[0;34m\u001b[0m\u001b[0m\n\u001b[1;32m    306\u001b[0m                 inputs=inputs)\n\u001b[0;32m--> 307\u001b[0;31m         \u001b[0mtorch\u001b[0m\u001b[0;34m.\u001b[0m\u001b[0mautograd\u001b[0m\u001b[0;34m.\u001b[0m\u001b[0mbackward\u001b[0m\u001b[0;34m(\u001b[0m\u001b[0mself\u001b[0m\u001b[0;34m,\u001b[0m \u001b[0mgradient\u001b[0m\u001b[0;34m,\u001b[0m \u001b[0mretain_graph\u001b[0m\u001b[0;34m,\u001b[0m \u001b[0mcreate_graph\u001b[0m\u001b[0;34m,\u001b[0m \u001b[0minputs\u001b[0m\u001b[0;34m=\u001b[0m\u001b[0minputs\u001b[0m\u001b[0;34m)\u001b[0m\u001b[0;34m\u001b[0m\u001b[0;34m\u001b[0m\u001b[0m\n\u001b[0m\u001b[1;32m    308\u001b[0m \u001b[0;34m\u001b[0m\u001b[0m\n\u001b[1;32m    309\u001b[0m     \u001b[0;32mdef\u001b[0m \u001b[0mregister_hook\u001b[0m\u001b[0;34m(\u001b[0m\u001b[0mself\u001b[0m\u001b[0;34m,\u001b[0m \u001b[0mhook\u001b[0m\u001b[0;34m)\u001b[0m\u001b[0;34m:\u001b[0m\u001b[0;34m\u001b[0m\u001b[0;34m\u001b[0m\u001b[0m\n",
      "\u001b[0;32m/usr/local/lib/python3.7/dist-packages/torch/autograd/__init__.py\u001b[0m in \u001b[0;36mbackward\u001b[0;34m(tensors, grad_tensors, retain_graph, create_graph, grad_variables, inputs)\u001b[0m\n\u001b[1;32m    154\u001b[0m     Variable._execution_engine.run_backward(\n\u001b[1;32m    155\u001b[0m         \u001b[0mtensors\u001b[0m\u001b[0;34m,\u001b[0m \u001b[0mgrad_tensors_\u001b[0m\u001b[0;34m,\u001b[0m \u001b[0mretain_graph\u001b[0m\u001b[0;34m,\u001b[0m \u001b[0mcreate_graph\u001b[0m\u001b[0;34m,\u001b[0m \u001b[0minputs\u001b[0m\u001b[0;34m,\u001b[0m\u001b[0;34m\u001b[0m\u001b[0;34m\u001b[0m\u001b[0m\n\u001b[0;32m--> 156\u001b[0;31m         allow_unreachable=True, accumulate_grad=True)  # allow_unreachable flag\n\u001b[0m\u001b[1;32m    157\u001b[0m \u001b[0;34m\u001b[0m\u001b[0m\n\u001b[1;32m    158\u001b[0m \u001b[0;34m\u001b[0m\u001b[0m\n",
      "\u001b[0;31mKeyboardInterrupt\u001b[0m: "
     ]
    }
   ],
   "source": [
    "# ----------------- Train ----------------\n",
    "\n",
    "embedding_dim = 300\n",
    "num_epochs = 10\n",
    "hidden_dim = 400\n",
    "learning_rate = 0.002\n",
    "vocab_size = len(word_dict)\n",
    "tagset_size = len(label_dict)\n",
    "blstm_model = BLSTM(embedding_dim, hidden_dim, vocab_size + 1, 200, tagset_size)\n",
    "blstm_model.to(device)\n",
    "optimizer = optim.Adam(blstm_model.parameters(), lr=learning_rate)\n",
    "criterion = nn.CrossEntropyLoss()\n",
    "history = {'train_loss': [], 'val_loss': [],'train_acc':[],'val_acc':[]}\n",
    "max_val_loss = float('inf')\n",
    "for epoch in range(num_epochs):\n",
    "    train_loss, train_correct=train_epoch(blstm_model,device,train_loader,criterion,optimizer)\n",
    "    val_loss, val_correct=valid_epoch(blstm_model,device,val_loader,criterion)\n",
    "    train_loss = train_loss / len(train_loader.sampler)\n",
    "    train_acc = train_correct / len(train_loader.sampler) * 100\n",
    "    val_loss = val_loss / len(val_loader.sampler)\n",
    "    val_acc = val_correct / len(val_loader.sampler) * 100\n",
    "    if val_loss < max_val_loss:\n",
    "        max_val_loss = val_loss\n",
    "        print(\"Validation Loss has Decreased\")\n",
    "        torch.save(blstm_model,'BLSTM.pt')\n",
    "\n",
    "    print(\"Epoch:{}/{} AVG Training Loss:{:.3f} AVG Validation Loss:{:.3f} AVG Training Acc {:.2f} % AVG Validation Acc {:.2f} %\".format(epoch + 1,\n",
    "                                                                                                        num_epochs,\n",
    "                                                                                                        train_loss,\n",
    "                                                                                                        val_loss,\n",
    "                                                                                                        train_acc,\n",
    "                                                                                                        val_acc))\n",
    "    history['train_loss'].append(train_loss)\n",
    "    history['val_loss'].append(val_loss)\n",
    "    history['train_acc'].append(train_acc)\n",
    "    history['val_acc'].append(val_acc)"
   ]
  },
  {
   "cell_type": "code",
   "execution_count": 221,
   "id": "JctvrzY0TLsT",
   "metadata": {
    "colab": {
     "base_uri": "https://localhost:8080/",
     "height": 266
    },
    "id": "JctvrzY0TLsT",
    "outputId": "8dfd206b-8986-471f-cff1-cfb937119d57"
   },
   "outputs": [
    {
     "data": {
      "image/png": "[encoded data removed]",
      "text/plain": [
       "<Figure size 432x288 with 1 Axes>"
      ]
     },
     "metadata": {
      "needs_background": "light"
     },
     "output_type": "display_data"
    }
   ],
   "source": [
    "plt.plot(history['val_loss'])\n",
    "plt.plot(history['train_loss'])\n",
    "plt.ylabel('some numbers')\n",
    "plt.show()"
   ]
  },
  {
   "cell_type": "code",
   "execution_count": 225,
   "id": "ks377rQRSVBq",
   "metadata": {
    "colab": {
     "base_uri": "https://localhost:8080/"
    },
    "id": "ks377rQRSVBq",
    "outputId": "f91fd283-85ab-4cc6-94e7-9961b446ae6b"
   },
   "outputs": [
    {
     "name": "stdout",
     "output_type": "stream",
     "text": [
      "               precision    recall  f1-score   support\n",
      "\n",
      "not_offensive    0.94864   0.96373   0.95613     12765\n",
      "    offensive    0.89044   0.84963   0.86956      4429\n",
      "\n",
      "     accuracy                        0.93434     17194\n",
      "    macro avg    0.91954   0.90668   0.91284     17194\n",
      " weighted avg    0.93365   0.93434   0.93383     17194\n",
      "\n",
      "Confusion Matrix: \n",
      " [[12302   463]\n",
      " [  666  3763]]\n"
     ]
    }
   ],
   "source": [
    "blstm_model = torch.load('BLSTM.pt')\n",
    "evaluation(blstm_model, val_loader, label_dict)"
   ]
  },
  {
   "cell_type": "code",
   "execution_count": null,
   "id": "5Xv-cuch-NnV",
   "metadata": {
    "id": "5Xv-cuch-NnV"
   },
   "outputs": [],
   "source": []
  }
 ],
 "metadata": {
  "accelerator": "GPU",
  "colab": {
   "collapsed_sections": [],
   "name": "classifier(5).ipynb",
   "provenance": []
  },
  "kernelspec": {
   "display_name": "nlp",
   "language": "python",
   "name": "nlp"
  },
  "language_info": {
   "codemirror_mode": {
    "name": "ipython",
    "version": 3
   },
   "file_extension": ".py",
   "mimetype": "text/x-python",
   "name": "python",
   "nbconvert_exporter": "python",
   "pygments_lexer": "ipython3",
   "version": "3.9.2"
  }
 },
 "nbformat": 4,
 "nbformat_minor": 5
}
